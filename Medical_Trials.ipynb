{
 "cells": [
  {
   "cell_type": "code",
   "execution_count": 2,
   "id": "parental-employment",
   "metadata": {},
   "outputs": [],
   "source": [
    "import numpy as np\n",
    "from random import randint\n",
    "from sklearn.utils import shuffle\n",
    "from sklearn.preprocessing import MinMaxScaler"
   ]
  },
  {
   "cell_type": "code",
   "execution_count": 3,
   "id": "confirmed-rubber",
   "metadata": {},
   "outputs": [],
   "source": [
    "train_labels = []\n",
    "train_samples = []"
   ]
  },
  {
   "cell_type": "markdown",
   "id": "natural-webster",
   "metadata": {},
   "source": [
    "Example Data:\n",
    "- An Experimental drug was tested on individuals from ages 13 to 100 in a clinical trial.\n",
    "- The trial had 2100 participants. Half were under 65 years old, half were 65 years or older.\n",
    "- Around 95% patients 65 or older experienced side effects.\n",
    "- Around 95% patients under 65 experienced no side effects."
   ]
  },
  {
   "cell_type": "code",
   "execution_count": 4,
   "id": "public-burning",
   "metadata": {},
   "outputs": [],
   "source": [
    "for i in range(50):\n",
    "    # The ~5% of younger individuals who did experience side effects\n",
    "    random_younger = randint(13,64)\n",
    "    train_samples.append(random_younger)\n",
    "    train_labels.append(1)\n",
    "    \n",
    "    # The ~5% of older individuals who did not experience side effects\n",
    "    random_older = randint(65,100)\n",
    "    train_samples.append(random_older)\n",
    "    train_labels.append(0)\n",
    "\n",
    "for i in range(1000):\n",
    "    # The ~95% of younger individuals who did not experience side effects\n",
    "    random_younger = randint(13,64)\n",
    "    train_samples.append(random_younger)\n",
    "    train_labels.append(0)\n",
    "    \n",
    "    # The ~95% of older individuals who did experience side effects\n",
    "    random_older = randint(65,100)\n",
    "    train_samples.append(random_older)\n",
    "    train_labels.append(1)"
   ]
  },
  {
   "cell_type": "code",
   "execution_count": 5,
   "id": "anonymous-coral",
   "metadata": {},
   "outputs": [
    {
     "data": {
      "text/plain": [
       "[47, 97, 18, 73, 31, 66, 22, 69, 46, 69]"
      ]
     },
     "execution_count": 5,
     "metadata": {},
     "output_type": "execute_result"
    }
   ],
   "source": [
    "train_samples[:10]"
   ]
  },
  {
   "cell_type": "code",
   "execution_count": 6,
   "id": "soviet-consent",
   "metadata": {},
   "outputs": [
    {
     "data": {
      "text/plain": [
       "[1, 0, 1, 0, 1, 0, 1, 0, 1, 0]"
      ]
     },
     "execution_count": 6,
     "metadata": {},
     "output_type": "execute_result"
    }
   ],
   "source": [
    "train_labels[:10]"
   ]
  },
  {
   "cell_type": "code",
   "execution_count": 7,
   "id": "interpreted-success",
   "metadata": {},
   "outputs": [],
   "source": [
    "train_samples = np.array(train_samples)\n",
    "train_labels = np.array(train_labels)\n",
    "train_samples, train_labels = shuffle(train_samples, train_labels)"
   ]
  },
  {
   "cell_type": "code",
   "execution_count": 8,
   "id": "worldwide-heading",
   "metadata": {},
   "outputs": [],
   "source": [
    "scaler = MinMaxScaler(feature_range=(0,1))\n",
    "scaled_train_samples = scaler.fit_transform(train_samples.reshape(-1,1))"
   ]
  },
  {
   "cell_type": "code",
   "execution_count": 10,
   "id": "august-halifax",
   "metadata": {},
   "outputs": [
    {
     "data": {
      "text/plain": [
       "array([[0.79310345],\n",
       "       [0.7816092 ],\n",
       "       [0.93103448],\n",
       "       [0.05747126],\n",
       "       [0.64367816],\n",
       "       [0.82758621],\n",
       "       [0.88505747],\n",
       "       [0.98850575],\n",
       "       [0.59770115],\n",
       "       [0.7816092 ]])"
      ]
     },
     "execution_count": 10,
     "metadata": {},
     "output_type": "execute_result"
    }
   ],
   "source": [
    "scaled_train_samples[:10]"
   ]
  },
  {
   "cell_type": "code",
   "execution_count": 11,
   "id": "under-mining",
   "metadata": {},
   "outputs": [],
   "source": [
    "import tensorflow as tf\n",
    "from tensorflow import keras\n",
    "from tensorflow.keras.models import Sequential\n",
    "from tensorflow.keras.layers import Activation, Dense\n",
    "from tensorflow.keras.optimizers import Adam\n",
    "from tensorflow.keras.metrics import categorical_crossentropy"
   ]
  },
  {
   "cell_type": "code",
   "execution_count": 12,
   "id": "confident-sessions",
   "metadata": {},
   "outputs": [],
   "source": [
    "model = Sequential([\n",
    "    Dense(units=16, input_shape=(1,), activation='relu'),\n",
    "    Dense(units=32, activation='relu'),\n",
    "    Dense(units=2, activation='softmax')\n",
    "])"
   ]
  },
  {
   "cell_type": "code",
   "execution_count": 13,
   "id": "blocked-madrid",
   "metadata": {},
   "outputs": [
    {
     "name": "stdout",
     "output_type": "stream",
     "text": [
      "Model: \"sequential\"\n",
      "_________________________________________________________________\n",
      "Layer (type)                 Output Shape              Param #   \n",
      "=================================================================\n",
      "dense (Dense)                (None, 16)                32        \n",
      "_________________________________________________________________\n",
      "dense_1 (Dense)              (None, 32)                544       \n",
      "_________________________________________________________________\n",
      "dense_2 (Dense)              (None, 2)                 66        \n",
      "=================================================================\n",
      "Total params: 642\n",
      "Trainable params: 642\n",
      "Non-trainable params: 0\n",
      "_________________________________________________________________\n"
     ]
    }
   ],
   "source": [
    "model.summary()"
   ]
  },
  {
   "cell_type": "code",
   "execution_count": 14,
   "id": "concerned-papua",
   "metadata": {},
   "outputs": [],
   "source": [
    "model.compile(optimizer=Adam(learning_rate=0.0001), loss='sparse_categorical_crossentropy', metrics=['accuracy'])"
   ]
  },
  {
   "cell_type": "code",
   "execution_count": 15,
   "id": "korean-fireplace",
   "metadata": {},
   "outputs": [
    {
     "name": "stdout",
     "output_type": "stream",
     "text": [
      "Epoch 1/30\n",
      "189/189 - 1s - loss: 0.7173 - accuracy: 0.4159 - val_loss: 0.7025 - val_accuracy: 0.2810\n",
      "Epoch 2/30\n",
      "189/189 - 0s - loss: 0.6897 - accuracy: 0.4280 - val_loss: 0.6745 - val_accuracy: 0.5905\n",
      "Epoch 3/30\n",
      "189/189 - 0s - loss: 0.6676 - accuracy: 0.5704 - val_loss: 0.6483 - val_accuracy: 0.6762\n",
      "Epoch 4/30\n",
      "189/189 - 0s - loss: 0.6456 - accuracy: 0.6407 - val_loss: 0.6263 - val_accuracy: 0.7048\n",
      "Epoch 5/30\n",
      "189/189 - 0s - loss: 0.6250 - accuracy: 0.6937 - val_loss: 0.6060 - val_accuracy: 0.7286\n",
      "Epoch 6/30\n",
      "189/189 - 0s - loss: 0.6050 - accuracy: 0.7206 - val_loss: 0.5851 - val_accuracy: 0.7476\n",
      "Epoch 7/30\n",
      "189/189 - 0s - loss: 0.5842 - accuracy: 0.7481 - val_loss: 0.5639 - val_accuracy: 0.7762\n",
      "Epoch 8/30\n",
      "189/189 - 0s - loss: 0.5619 - accuracy: 0.7772 - val_loss: 0.5414 - val_accuracy: 0.7810\n",
      "Epoch 9/30\n",
      "189/189 - 0s - loss: 0.5386 - accuracy: 0.7894 - val_loss: 0.5198 - val_accuracy: 0.8095\n",
      "Epoch 10/30\n",
      "189/189 - 0s - loss: 0.5151 - accuracy: 0.8095 - val_loss: 0.4982 - val_accuracy: 0.8333\n",
      "Epoch 11/30\n",
      "189/189 - 0s - loss: 0.4918 - accuracy: 0.8222 - val_loss: 0.4775 - val_accuracy: 0.8571\n",
      "Epoch 12/30\n",
      "189/189 - 0s - loss: 0.4693 - accuracy: 0.8413 - val_loss: 0.4571 - val_accuracy: 0.8571\n",
      "Epoch 13/30\n",
      "189/189 - 0s - loss: 0.4479 - accuracy: 0.8476 - val_loss: 0.4380 - val_accuracy: 0.8619\n",
      "Epoch 14/30\n",
      "189/189 - 0s - loss: 0.4279 - accuracy: 0.8608 - val_loss: 0.4214 - val_accuracy: 0.8667\n",
      "Epoch 15/30\n",
      "189/189 - 0s - loss: 0.4092 - accuracy: 0.8720 - val_loss: 0.4061 - val_accuracy: 0.8905\n",
      "Epoch 16/30\n",
      "189/189 - 0s - loss: 0.3920 - accuracy: 0.8878 - val_loss: 0.3914 - val_accuracy: 0.8905\n",
      "Epoch 17/30\n",
      "189/189 - 0s - loss: 0.3764 - accuracy: 0.8926 - val_loss: 0.3788 - val_accuracy: 0.9000\n",
      "Epoch 18/30\n",
      "189/189 - 0s - loss: 0.3624 - accuracy: 0.9053 - val_loss: 0.3676 - val_accuracy: 0.9000\n",
      "Epoch 19/30\n",
      "189/189 - 0s - loss: 0.3498 - accuracy: 0.9090 - val_loss: 0.3577 - val_accuracy: 0.9000\n",
      "Epoch 20/30\n",
      "189/189 - 0s - loss: 0.3387 - accuracy: 0.9196 - val_loss: 0.3486 - val_accuracy: 0.9000\n",
      "Epoch 21/30\n",
      "189/189 - 0s - loss: 0.3290 - accuracy: 0.9201 - val_loss: 0.3411 - val_accuracy: 0.9143\n",
      "Epoch 22/30\n",
      "189/189 - 0s - loss: 0.3203 - accuracy: 0.9206 - val_loss: 0.3347 - val_accuracy: 0.9143\n",
      "Epoch 23/30\n",
      "189/189 - 0s - loss: 0.3126 - accuracy: 0.9238 - val_loss: 0.3300 - val_accuracy: 0.9238\n",
      "Epoch 24/30\n",
      "189/189 - 0s - loss: 0.3060 - accuracy: 0.9302 - val_loss: 0.3243 - val_accuracy: 0.9238\n",
      "Epoch 25/30\n",
      "189/189 - 0s - loss: 0.3000 - accuracy: 0.9302 - val_loss: 0.3204 - val_accuracy: 0.9238\n",
      "Epoch 26/30\n",
      "189/189 - 0s - loss: 0.2946 - accuracy: 0.9312 - val_loss: 0.3163 - val_accuracy: 0.9238\n",
      "Epoch 27/30\n",
      "189/189 - 0s - loss: 0.2900 - accuracy: 0.9328 - val_loss: 0.3129 - val_accuracy: 0.9333\n",
      "Epoch 28/30\n",
      "189/189 - 0s - loss: 0.2857 - accuracy: 0.9349 - val_loss: 0.3099 - val_accuracy: 0.9333\n",
      "Epoch 29/30\n",
      "189/189 - 0s - loss: 0.2820 - accuracy: 0.9360 - val_loss: 0.3069 - val_accuracy: 0.9333\n",
      "Epoch 30/30\n",
      "189/189 - 0s - loss: 0.2787 - accuracy: 0.9360 - val_loss: 0.3054 - val_accuracy: 0.9333\n"
     ]
    },
    {
     "data": {
      "text/plain": [
       "<tensorflow.python.keras.callbacks.History at 0x285e73685c0>"
      ]
     },
     "execution_count": 15,
     "metadata": {},
     "output_type": "execute_result"
    }
   ],
   "source": [
    "model.fit(x=scaled_train_samples, y=train_labels, validation_split=0.1, batch_size=10, epochs=30, shuffle=True, verbose=2)"
   ]
  },
  {
   "cell_type": "code",
   "execution_count": 16,
   "id": "departmental-programmer",
   "metadata": {},
   "outputs": [],
   "source": [
    "test_labels = []\n",
    "test_samples = []"
   ]
  },
  {
   "cell_type": "code",
   "execution_count": 17,
   "id": "cloudy-trinidad",
   "metadata": {},
   "outputs": [],
   "source": [
    "for i in range(10):\n",
    "    # The ~5% of younger individuals who did experience side effects\n",
    "    random_younger = randint(13,64)\n",
    "    test_samples.append(random_younger)\n",
    "    test_labels.append(1)\n",
    "    \n",
    "    # The ~5% of older individuals who did not experience side effects\n",
    "    random_older = randint(65,100)\n",
    "    test_samples.append(random_older)\n",
    "    test_labels.append(0)\n",
    "    \n",
    "for i in range(200):\n",
    "    # The ~95% of younger individuals who did not experience side effects\n",
    "    random_younger = randint(13,64)\n",
    "    test_samples.append(random_younger)\n",
    "    test_labels.append(0)\n",
    "    \n",
    "    # The ~95% of older individuals who did experience side effects\n",
    "    random_older = randint(65,100)\n",
    "    test_samples.append(random_older)\n",
    "    test_labels.append(1)"
   ]
  },
  {
   "cell_type": "code",
   "execution_count": 18,
   "id": "committed-wilderness",
   "metadata": {},
   "outputs": [],
   "source": [
    "test_samples = np.array(test_samples)\n",
    "test_labels = np.array(test_labels)\n",
    "test_samples, test_labels = shuffle(test_samples, test_labels)"
   ]
  },
  {
   "cell_type": "code",
   "execution_count": 19,
   "id": "prospective-produce",
   "metadata": {},
   "outputs": [],
   "source": [
    "scaled_test_samples = scaler.fit_transform(test_samples.reshape(-1,1))"
   ]
  },
  {
   "cell_type": "markdown",
   "id": "multiple-edinburgh",
   "metadata": {},
   "source": [
    "# Predict"
   ]
  },
  {
   "cell_type": "code",
   "execution_count": 20,
   "id": "ecological-lesson",
   "metadata": {},
   "outputs": [],
   "source": [
    "predictions = model.predict(x=scaled_test_samples, batch_size=10, verbose=0)"
   ]
  },
  {
   "cell_type": "code",
   "execution_count": 21,
   "id": "electronic-insured",
   "metadata": {},
   "outputs": [
    {
     "data": {
      "text/plain": [
       "array([[0.03760603, 0.962394  ],\n",
       "       [0.9079    , 0.09210006],\n",
       "       [0.08336739, 0.9166326 ],\n",
       "       [0.18248042, 0.8175196 ],\n",
       "       [0.04019124, 0.9598088 ],\n",
       "       [0.9219219 , 0.07807814],\n",
       "       [0.92571354, 0.07428648],\n",
       "       [0.09235426, 0.90764576],\n",
       "       [0.9240796 , 0.07592041],\n",
       "       [0.10220189, 0.8977981 ]], dtype=float32)"
      ]
     },
     "execution_count": 21,
     "metadata": {},
     "output_type": "execute_result"
    }
   ],
   "source": [
    "predictions[:10]"
   ]
  },
  {
   "cell_type": "code",
   "execution_count": 23,
   "id": "concrete-concord",
   "metadata": {},
   "outputs": [],
   "source": [
    "rounded_predictions = np.argmax(predictions, axis=-1)"
   ]
  },
  {
   "cell_type": "code",
   "execution_count": 24,
   "id": "given-frontier",
   "metadata": {},
   "outputs": [
    {
     "data": {
      "text/plain": [
       "array([1, 0, 1, 1, 1, 0, 0, 1, 0, 1], dtype=int64)"
      ]
     },
     "execution_count": 24,
     "metadata": {},
     "output_type": "execute_result"
    }
   ],
   "source": [
    "rounded_predictions[:10]"
   ]
  },
  {
   "cell_type": "markdown",
   "id": "superior-sellers",
   "metadata": {},
   "source": [
    "# Confusion Matrix"
   ]
  },
  {
   "cell_type": "code",
   "execution_count": 25,
   "id": "equipped-editing",
   "metadata": {},
   "outputs": [],
   "source": [
    "%matplotlib inline\n",
    "from sklearn.metrics import confusion_matrix\n",
    "import itertools\n",
    "import matplotlib.pyplot as plt"
   ]
  },
  {
   "cell_type": "code",
   "execution_count": 26,
   "id": "hawaiian-diploma",
   "metadata": {},
   "outputs": [],
   "source": [
    "cm = confusion_matrix(y_true=test_labels, y_pred=rounded_predictions)"
   ]
  },
  {
   "cell_type": "code",
   "execution_count": 27,
   "id": "dense-connectivity",
   "metadata": {},
   "outputs": [],
   "source": [
    "def plot_confusion_matrix(cm, classes,\n",
    "                        normalize=False,\n",
    "                        title='Confusion matrix',\n",
    "                        cmap=plt.cm.Blues):\n",
    "    \"\"\"\n",
    "    This function prints and plots the confusion matrix.\n",
    "    Normalization can be applied by setting `normalize=True`.\n",
    "    \"\"\"\n",
    "    plt.imshow(cm, interpolation='nearest', cmap=cmap)\n",
    "    plt.title(title)\n",
    "    plt.colorbar()\n",
    "    tick_marks = np.arange(len(classes))\n",
    "    plt.xticks(tick_marks, classes, rotation=45)\n",
    "    plt.yticks(tick_marks, classes)\n",
    "\n",
    "    if normalize:\n",
    "        cm = cm.astype('float') / cm.sum(axis=1)[:, np.newaxis]\n",
    "        print(\"Normalized confusion matrix\")\n",
    "    else:\n",
    "        print('Confusion matrix, without normalization')\n",
    "\n",
    "    print(cm)\n",
    "\n",
    "    thresh = cm.max() / 2.\n",
    "    for i, j in itertools.product(range(cm.shape[0]), range(cm.shape[1])):\n",
    "        plt.text(j, i, cm[i, j],\n",
    "            horizontalalignment=\"center\",\n",
    "            color=\"white\" if cm[i, j] > thresh else \"black\")\n",
    "\n",
    "    plt.tight_layout()\n",
    "    plt.ylabel('True label')\n",
    "    plt.xlabel('Predicted label')"
   ]
  },
  {
   "cell_type": "code",
   "execution_count": 28,
   "id": "ecological-reviewer",
   "metadata": {},
   "outputs": [
    {
     "name": "stdout",
     "output_type": "stream",
     "text": [
      "Confusion matrix, without normalization\n",
      "[[195  15]\n",
      " [  9 201]]\n"
     ]
    },
    {
     "data": {
      "image/png": "[encoded data removed]",
      "text/plain": [
       "<Figure size 432x288 with 2 Axes>"
      ]
     },
     "metadata": {
      "needs_background": "light"
     },
     "output_type": "display_data"
    }
   ],
   "source": [
    "cm_plot_labels = ['no_side_effects', 'had_side_effects']\n",
    "plot_confusion_matrix(cm=cm, classes=cm_plot_labels, title='Confusion Matrix')"
   ]
  },
  {
   "cell_type": "markdown",
   "id": "false-accountability",
   "metadata": {},
   "source": [
    "# Save and Load a model"
   ]
  },
  {
   "cell_type": "code",
   "execution_count": 29,
   "id": "adjacent-twins",
   "metadata": {},
   "outputs": [],
   "source": [
    "import os.path\n",
    "if os.path.isfile('models/medical_trial_model.h5') is False:\n",
    "    model.save('models/medical_trial_model.h5')"
   ]
  },
  {
   "cell_type": "code",
   "execution_count": 30,
   "id": "opposite-equilibrium",
   "metadata": {},
   "outputs": [],
   "source": [
    "from tensorflow.keras.models import load_model\n",
    "new_model = load_model('models/medical_trial_model.h5')"
   ]
  },
  {
   "cell_type": "code",
   "execution_count": 31,
   "id": "widespread-saying",
   "metadata": {},
   "outputs": [
    {
     "name": "stdout",
     "output_type": "stream",
     "text": [
      "Model: \"sequential\"\n",
      "_________________________________________________________________\n",
      "Layer (type)                 Output Shape              Param #   \n",
      "=================================================================\n",
      "dense (Dense)                (None, 16)                32        \n",
      "_________________________________________________________________\n",
      "dense_1 (Dense)              (None, 32)                544       \n",
      "_________________________________________________________________\n",
      "dense_2 (Dense)              (None, 2)                 66        \n",
      "=================================================================\n",
      "Total params: 642\n",
      "Trainable params: 642\n",
      "Non-trainable params: 0\n",
      "_________________________________________________________________\n"
     ]
    }
   ],
   "source": [
    "new_model.summary()"
   ]
  },
  {
   "cell_type": "code",
   "execution_count": 32,
   "id": "liked-flooring",
   "metadata": {},
   "outputs": [],
   "source": [
    "# new_model.get_weights()"
   ]
  },
  {
   "cell_type": "code",
   "execution_count": 33,
   "id": "civic-velvet",
   "metadata": {},
   "outputs": [],
   "source": [
    "#new_model.optimizer"
   ]
  }
 ],
 "metadata": {
  "kernelspec": {
   "display_name": "Python 3",
   "language": "python",
   "name": "python3"
  },
  "language_info": {
   "codemirror_mode": {
    "name": "ipython",
    "version": 3
   },
   "file_extension": ".py",
   "mimetype": "text/x-python",
   "name": "python",
   "nbconvert_exporter": "python",
   "pygments_lexer": "ipython3",
   "version": "3.6.12"
  }
 },
 "nbformat": 4,
 "nbformat_minor": 5
}
